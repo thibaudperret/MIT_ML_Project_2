{
 "cells": [
  {
   "cell_type": "code",
   "execution_count": 1,
   "metadata": {},
   "outputs": [
    {
     "name": "stderr",
     "output_type": "stream",
     "text": [
      "Using TensorFlow backend.\n",
      "/Users/mac/tensorflow/lib/python3.6/importlib/_bootstrap.py:219: RuntimeWarning: compiletime version 3.5 of module 'tensorflow.python.framework.fast_tensor_util' does not match runtime version 3.6\n",
      "  return f(*args, **kwds)\n"
     ]
    }
   ],
   "source": [
    "import numpy as np\n",
    "import keras\n",
    "from keras.models import Sequential\n",
    "from keras.layers import Dense, Dropout, Flatten\n",
    "from keras.layers import Conv2D, MaxPooling2D\n",
    "from keras.optimizers import SGD\n",
    "import os,sys\n",
    "from PIL import Image\n",
    "from helpers import *\n",
    "from sklearn import linear_model\n",
    "from sklearn.preprocessing import PolynomialFeatures\n",
    "from pylab import *\n",
    "from sklearn.model_selection import train_test_split"
   ]
  },
  {
   "cell_type": "code",
   "execution_count": 7,
   "metadata": {},
   "outputs": [
    {
     "name": "stdout",
     "output_type": "stream",
     "text": [
      "Loading 100 satellite images\n",
      "Loading 100 groundtruth images\n",
      "Image size = 400,400\n"
     ]
    }
   ],
   "source": [
    "# Loaded a set of images\n",
    "#root_dir = \"augmented_training/\"\n",
    "root_dir = \"training/\"\n",
    "image_dir = root_dir + \"images/\"\n",
    "files = os.listdir(image_dir)  \n",
    "\n",
    "n = 100\n",
    "\n",
    "print(\"Loading \" + str(n) + \" satellite images\")\n",
    "imgs = [load_image(image_dir + files[i]) for i in range(n)] #List of each image Dim (100, 400,400,3)\n",
    "\n",
    "gt_dir = root_dir + \"groundtruth/\"\n",
    "files2 = os.listdir(gt_dir)\n",
    "\n",
    "print(\"Loading \" + str(n) + \" groundtruth images\")\n",
    "gt_imgs = [load_image(gt_dir + files2[i]) for i in range(n)]\n",
    "print('Image size = ' + str(imgs[0].shape[0]) + ',' + str(imgs[0].shape[1]))"
   ]
  },
  {
   "cell_type": "code",
   "execution_count": 8,
   "metadata": {},
   "outputs": [
    {
     "name": "stdout",
     "output_type": "stream",
     "text": [
      "img_patches:(62500, 16, 16, 3)\n",
      "gt_patches:(62500, 16, 16)\n"
     ]
    }
   ],
   "source": [
    "patch_size = 16 # each patch is 16*16 pixels  #400/16 = 25*25 = 625 patches for 10 images\n",
    "\n",
    "img_patches = [img_crop(imgs[i], patch_size, patch_size) for i in range(n)]   # dim img_patches = (n,625,16,16,3)\n",
    "gt_patches = [img_crop(gt_imgs[i], patch_size, patch_size) for i in range(n)]\n",
    "\n",
    "# Linearize list of patches\n",
    "\n",
    "X = np.asarray([img_patches[i][j] for i in range(len(img_patches)) for j in range(len(img_patches[i]))])\n",
    "gt_patches = np.asarray([gt_patches[i][j] for i in range(len(gt_patches)) for j in range(len(gt_patches[i]))])\n",
    "\n",
    "print(\"img_patches:\" + str(X.shape))\n",
    "print(\"gt_patches:\" + str(gt_patches.shape))"
   ]
  },
  {
   "cell_type": "code",
   "execution_count": 9,
   "metadata": {},
   "outputs": [
    {
     "data": {
      "text/plain": [
       "(62500,)"
      ]
     },
     "execution_count": 9,
     "metadata": {},
     "output_type": "execute_result"
    }
   ],
   "source": [
    "foreground_threshold = 0.25    \n",
    "Y = np.asarray([value_to_class(np.mean(gt_patches[i]),foreground_threshold) for i in range(len(gt_patches))])\n",
    "Y.shape"
   ]
  },
  {
   "cell_type": "code",
   "execution_count": 10,
   "metadata": {},
   "outputs": [
    {
     "name": "stdout",
     "output_type": "stream",
     "text": [
      "X_train: (56250, 16, 16, 3)\n",
      "X_val:  (6250, 16, 16, 3)\n",
      "Y_train (56250,)\n",
      "Y_val (6250,)\n"
     ]
    }
   ],
   "source": [
    "X_train, X_val, Y_train, Y_val = train_test_split(X, Y, test_size=0.1)\n",
    "\n",
    "print(\"X_train:\",X_train.shape)\n",
    "print(\"X_val: \",X_val.shape)\n",
    "print(\"Y_train\",Y_train.shape)\n",
    "print(\"Y_val\",Y_val.shape)"
   ]
  },
  {
   "cell_type": "code",
   "execution_count": 13,
   "metadata": {},
   "outputs": [
    {
     "name": "stdout",
     "output_type": "stream",
     "text": [
      "Train on 56250 samples, validate on 6250 samples\n",
      "Epoch 1/40\n",
      "56250/56250 [==============================] - 59s 1ms/step - loss: 0.5179 - acc: 0.7466 - val_loss: 0.4651 - val_acc: 0.7694\n",
      "Epoch 2/40\n",
      "56250/56250 [==============================] - 57s 1ms/step - loss: 0.4463 - acc: 0.7830 - val_loss: 0.4159 - val_acc: 0.7989\n",
      "Epoch 3/40\n",
      "56250/56250 [==============================] - 57s 1ms/step - loss: 0.4236 - acc: 0.7984 - val_loss: 0.4044 - val_acc: 0.8067\n",
      "Epoch 4/40\n",
      "56250/56250 [==============================] - 58s 1ms/step - loss: 0.4138 - acc: 0.8041 - val_loss: 0.4032 - val_acc: 0.8069\n",
      "Epoch 5/40\n",
      "56250/56250 [==============================] - 58s 1ms/step - loss: 0.4019 - acc: 0.8105 - val_loss: 0.3852 - val_acc: 0.8205\n",
      "Epoch 6/40\n",
      "56250/56250 [==============================] - 61s 1ms/step - loss: 0.3958 - acc: 0.8135 - val_loss: 0.4062 - val_acc: 0.8098\n",
      "Epoch 7/40\n",
      "56250/56250 [==============================] - 61s 1ms/step - loss: 0.3897 - acc: 0.8174 - val_loss: 0.3822 - val_acc: 0.8235\n",
      "Epoch 8/40\n",
      "56250/56250 [==============================] - 62s 1ms/step - loss: 0.3798 - acc: 0.8229 - val_loss: 0.3785 - val_acc: 0.8253\n",
      "Epoch 9/40\n",
      "56250/56250 [==============================] - 64s 1ms/step - loss: 0.3774 - acc: 0.8223 - val_loss: 0.3893 - val_acc: 0.8194\n",
      "Epoch 10/40\n",
      "56250/56250 [==============================] - 65s 1ms/step - loss: 0.3723 - acc: 0.8269 - val_loss: 0.3748 - val_acc: 0.8293\n",
      "Epoch 11/40\n",
      "56250/56250 [==============================] - 63s 1ms/step - loss: 0.3697 - acc: 0.8269 - val_loss: 0.3650 - val_acc: 0.8328\n",
      "Epoch 12/40\n",
      "56250/56250 [==============================] - 61s 1ms/step - loss: 0.3632 - acc: 0.8328 - val_loss: 0.3693 - val_acc: 0.8301\n",
      "Epoch 13/40\n",
      "56250/56250 [==============================] - 60s 1ms/step - loss: 0.3574 - acc: 0.8339 - val_loss: 0.3662 - val_acc: 0.8280\n",
      "Epoch 14/40\n",
      "56250/56250 [==============================] - 60s 1ms/step - loss: 0.3564 - acc: 0.8361 - val_loss: 0.3612 - val_acc: 0.8352\n",
      "Epoch 15/40\n",
      "56250/56250 [==============================] - 60s 1ms/step - loss: 0.3525 - acc: 0.8366 - val_loss: 0.3577 - val_acc: 0.8344\n",
      "Epoch 16/40\n",
      "56250/56250 [==============================] - 61s 1ms/step - loss: 0.3473 - acc: 0.8405 - val_loss: 0.3674 - val_acc: 0.8314\n",
      "Epoch 17/40\n",
      "56250/56250 [==============================] - 62s 1ms/step - loss: 0.3465 - acc: 0.8404 - val_loss: 0.3613 - val_acc: 0.8315\n",
      "Epoch 18/40\n",
      "56250/56250 [==============================] - 60s 1ms/step - loss: 0.3426 - acc: 0.8418 - val_loss: 0.3567 - val_acc: 0.8371\n",
      "Epoch 19/40\n",
      "56250/56250 [==============================] - 60s 1ms/step - loss: 0.3369 - acc: 0.8450 - val_loss: 0.3596 - val_acc: 0.8368\n",
      "Epoch 20/40\n",
      "56250/56250 [==============================] - 59s 1ms/step - loss: 0.3349 - acc: 0.8454 - val_loss: 0.3669 - val_acc: 0.8290\n",
      "Epoch 21/40\n",
      "56250/56250 [==============================] - 60s 1ms/step - loss: 0.3313 - acc: 0.8481 - val_loss: 0.3688 - val_acc: 0.8322\n",
      "Epoch 22/40\n",
      "56250/56250 [==============================] - 59s 1ms/step - loss: 0.3288 - acc: 0.8498 - val_loss: 0.3514 - val_acc: 0.8387\n",
      "Epoch 23/40\n",
      "56250/56250 [==============================] - 59s 1ms/step - loss: 0.3256 - acc: 0.8499 - val_loss: 0.3561 - val_acc: 0.8342\n",
      "Epoch 24/40\n",
      "56250/56250 [==============================] - 59s 1ms/step - loss: 0.3231 - acc: 0.8529 - val_loss: 0.3567 - val_acc: 0.8400\n",
      "Epoch 25/40\n",
      "56250/56250 [==============================] - 60s 1ms/step - loss: 0.3206 - acc: 0.8536 - val_loss: 0.3489 - val_acc: 0.8414\n",
      "Epoch 26/40\n",
      "56250/56250 [==============================] - 60s 1ms/step - loss: 0.3176 - acc: 0.8543 - val_loss: 0.3632 - val_acc: 0.8314\n",
      "Epoch 27/40\n",
      "56250/56250 [==============================] - 60s 1ms/step - loss: 0.3154 - acc: 0.8562 - val_loss: 0.3475 - val_acc: 0.8446\n",
      "Epoch 28/40\n",
      "56250/56250 [==============================] - 60s 1ms/step - loss: 0.3131 - acc: 0.8579 - val_loss: 0.3568 - val_acc: 0.8368\n",
      "Epoch 29/40\n",
      "56250/56250 [==============================] - 60s 1ms/step - loss: 0.3085 - acc: 0.8601 - val_loss: 0.3547 - val_acc: 0.8430\n",
      "Epoch 30/40\n",
      "56250/56250 [==============================] - 59s 1ms/step - loss: 0.3079 - acc: 0.8601 - val_loss: 0.3582 - val_acc: 0.8363\n",
      "Epoch 31/40\n",
      "56250/56250 [==============================] - 60s 1ms/step - loss: 0.3069 - acc: 0.8611 - val_loss: 0.3981 - val_acc: 0.8171\n",
      "Epoch 32/40\n",
      "56250/56250 [==============================] - 60s 1ms/step - loss: 0.3043 - acc: 0.8618 - val_loss: 0.3535 - val_acc: 0.8424\n",
      "Epoch 33/40\n",
      "56250/56250 [==============================] - 60s 1ms/step - loss: 0.3025 - acc: 0.8649 - val_loss: 0.3723 - val_acc: 0.8286\n",
      "Epoch 34/40\n",
      "56250/56250 [==============================] - 60s 1ms/step - loss: 0.2997 - acc: 0.8646 - val_loss: 0.3491 - val_acc: 0.8435\n",
      "Epoch 35/40\n",
      "56250/56250 [==============================] - 60s 1ms/step - loss: 0.2956 - acc: 0.8665 - val_loss: 0.3589 - val_acc: 0.8434\n",
      "Epoch 36/40\n",
      "56250/56250 [==============================] - 60s 1ms/step - loss: 0.2959 - acc: 0.8674 - val_loss: 0.3613 - val_acc: 0.8432\n",
      "Epoch 37/40\n",
      "56250/56250 [==============================] - 61s 1ms/step - loss: 0.2942 - acc: 0.8685 - val_loss: 0.3527 - val_acc: 0.8440\n",
      "Epoch 38/40\n",
      "56250/56250 [==============================] - 59s 1ms/step - loss: 0.2915 - acc: 0.8692 - val_loss: 0.3556 - val_acc: 0.8414\n",
      "Epoch 39/40\n",
      "56250/56250 [==============================] - 60s 1ms/step - loss: 0.2931 - acc: 0.8671 - val_loss: 0.3566 - val_acc: 0.8454\n",
      "Epoch 40/40\n",
      "56250/56250 [==============================] - 60s 1ms/step - loss: 0.2894 - acc: 0.8701 - val_loss: 0.3512 - val_acc: 0.8416\n",
      "6250/6250 [==============================] - 2s 283us/step\n"
     ]
    }
   ],
   "source": [
    "from keras.optimizers import Adam\n",
    "\n",
    "model = Sequential()\n",
    "# input: 100x100 images with 3 channels -> (100, 100, 3) tensors.\n",
    "# this applies 32 convolution filters of size 3x3 each.\n",
    "model.add(Conv2D(32, (3, 3), activation='relu',input_shape=(16, 16, 3)))\n",
    "model.add(Conv2D(32, (3, 3), activation='relu'))\n",
    "model.add(MaxPooling2D(pool_size=(2, 2)))\n",
    "model.add(Dropout(0.25))\n",
    "\n",
    "model.add(Conv2D(64, (3, 3), activation='relu'))\n",
    "model.add(Conv2D(64, (3, 3), activation='relu'))\n",
    "model.add(MaxPooling2D(pool_size=(2, 2)))\n",
    "model.add(Dropout(0.25))\n",
    "\n",
    "model.add(Flatten())\n",
    "model.add(Dense(256, activation='relu'))\n",
    "model.add(Dropout(0.5))\n",
    "model.add(Dense(1, activation='sigmoid'))\n",
    "\n",
    "#sgd = SGD(lr=0.01, decay=1e-6, momentum=0, nesterov=True)\n",
    "opt = Adam(lr=0.001)\n",
    "model.compile(loss='binary_crossentropy', optimizer= opt, metrics = ['accuracy'])\n",
    "\n",
    "network_history = model.fit(X_train, Y_train, batch_size=64, epochs=40, validation_data = (X_val,Y_val))\n",
    "#network_history = model.fit(X, Y, batch_size=64, epochs=20)\n",
    "\n",
    "score = model.evaluate(X_val, Y_val, batch_size=64)"
   ]
  },
  {
   "cell_type": "code",
   "execution_count": 14,
   "metadata": {},
   "outputs": [
    {
     "data": {
      "image/png": "[encoded data removed]",
      "text/plain": [
       "<matplotlib.figure.Figure at 0x19e6d8cc0>"
      ]
     },
     "metadata": {},
     "output_type": "display_data"
    },
    {
     "data": {
      "image/png": "[encoded data removed]",
      "text/plain": [
       "<matplotlib.figure.Figure at 0x13e7d6390>"
      ]
     },
     "metadata": {},
     "output_type": "display_data"
    }
   ],
   "source": [
    "import matplotlib.pyplot as plt\n",
    "%matplotlib inline\n",
    "\n",
    "def plot_history(network_history):\n",
    "    plt.figure()\n",
    "    plt.xlabel('Epochs')\n",
    "    plt.ylabel('Loss')\n",
    "    plt.plot(network_history.history['loss'])\n",
    "    plt.plot(network_history.history['val_loss'])\n",
    "    plt.legend(['Training', 'Validation'])\n",
    "\n",
    "    plt.figure()\n",
    "    plt.xlabel('Epochs')\n",
    "    plt.ylabel('Accuracy')\n",
    "    plt.plot(network_history.history['acc'])\n",
    "    plt.plot(network_history.history['val_acc'])\n",
    "    plt.legend(['Training', 'Validation'], loc='lower right')\n",
    "    plt.show()\n",
    "\n",
    "plot_history(network_history)"
   ]
  },
  {
   "cell_type": "markdown",
   "metadata": {},
   "source": [
    "## SUBMISSION \n"
   ]
  },
  {
   "cell_type": "code",
   "execution_count": 41,
   "metadata": {},
   "outputs": [
    {
     "name": "stdout",
     "output_type": "stream",
     "text": [
      "['test_set_images/test_1/test_1.png', 'test_set_images/test_2/test_2.png', 'test_set_images/test_3/test_3.png', 'test_set_images/test_4/test_4.png', 'test_set_images/test_5/test_5.png', 'test_set_images/test_6/test_6.png', 'test_set_images/test_7/test_7.png', 'test_set_images/test_8/test_8.png', 'test_set_images/test_9/test_9.png', 'test_set_images/test_10/test_10.png', 'test_set_images/test_11/test_11.png', 'test_set_images/test_12/test_12.png', 'test_set_images/test_13/test_13.png', 'test_set_images/test_14/test_14.png', 'test_set_images/test_15/test_15.png', 'test_set_images/test_16/test_16.png', 'test_set_images/test_17/test_17.png', 'test_set_images/test_18/test_18.png', 'test_set_images/test_19/test_19.png', 'test_set_images/test_20/test_20.png', 'test_set_images/test_21/test_21.png', 'test_set_images/test_22/test_22.png', 'test_set_images/test_23/test_23.png', 'test_set_images/test_24/test_24.png', 'test_set_images/test_25/test_25.png', 'test_set_images/test_26/test_26.png', 'test_set_images/test_27/test_27.png', 'test_set_images/test_28/test_28.png', 'test_set_images/test_29/test_29.png', 'test_set_images/test_30/test_30.png', 'test_set_images/test_31/test_31.png', 'test_set_images/test_32/test_32.png', 'test_set_images/test_33/test_33.png', 'test_set_images/test_34/test_34.png', 'test_set_images/test_35/test_35.png', 'test_set_images/test_36/test_36.png', 'test_set_images/test_37/test_37.png', 'test_set_images/test_38/test_38.png', 'test_set_images/test_39/test_39.png', 'test_set_images/test_40/test_40.png', 'test_set_images/test_41/test_41.png', 'test_set_images/test_42/test_42.png', 'test_set_images/test_43/test_43.png', 'test_set_images/test_44/test_44.png', 'test_set_images/test_45/test_45.png', 'test_set_images/test_46/test_46.png', 'test_set_images/test_47/test_47.png', 'test_set_images/test_48/test_48.png', 'test_set_images/test_49/test_49.png', 'test_set_images/test_50/test_50.png']\n",
      "Loading 50 test images\n",
      "Size of image: 608,608\n",
      "img_patches:(72200, 16, 16, 3)\n",
      "Dataset (RGB features Mean/Variance) : (72200, 6)\n"
     ]
    }
   ],
   "source": [
    "test_dir = 'test_set_images/'\n",
    "\n",
    "imgs_test = load_test_images(test_dir) ##In helpers.py\n",
    "patch_size = 16 \n",
    "\n",
    "img_patches_test = [img_crop(imgs_test[i], patch_size, patch_size) for i in range(len(imgs_test))]# dim img_patches\n",
    "img_patches_test = np.asarray([img_patches_test[i][j] for i in range(len(img_patches_test)) for j in range(len(img_patches_test[i]))])\n",
    "\n",
    "print(\"img_patches:\" + str(img_patches_test.shape))\n",
    "\n",
    "data = np.asarray([extract_features(img_patches_test[i]) for i in range(len(img_patches_test))])\n",
    "print('Dataset (RGB features Mean/Variance) :', data.shape)\n"
   ]
  },
  {
   "cell_type": "code",
   "execution_count": 66,
   "metadata": {},
   "outputs": [],
   "source": [
    "y_pred = model.predict(img_patches_test, batch_size = 64)"
   ]
  },
  {
   "cell_type": "code",
   "execution_count": 67,
   "metadata": {},
   "outputs": [
    {
     "name": "stdout",
     "output_type": "stream",
     "text": [
      "prediction_shape: before (72200, 1)\n",
      "prediction_shape: after (50, 1444)\n"
     ]
    }
   ],
   "source": [
    "for i in range(len(y_pred)):\n",
    "    \n",
    "    if y_pred[i] < 0.5:\n",
    "        y_pred[i] = 0\n",
    "    else:\n",
    "        y_pred[i] = 1\n",
    "\n",
    "print('prediction_shape: before',y_pred.shape)\n",
    "labels = np.reshape(y_pred,(50,1444))\n",
    "print('prediction_shape: after',labels.shape) ##iterate over each image more easily"
   ]
  },
  {
   "cell_type": "code",
   "execution_count": 68,
   "metadata": {},
   "outputs": [],
   "source": [
    "imgwidth = imgs_test[0].shape[0] \n",
    "imgheight = imgs_test[0].shape[1] \n",
    "w = patch_size\n",
    "h = patch_size\n",
    "\n",
    "os.makedirs('prediction_cnnnn/', exist_ok=True) \n",
    "\n",
    "for i in range(len(labels)):\n",
    "    im = label_to_img(imgwidth, imgheight, w, h, labels[i])\n",
    "    im = img_float_to_uint8(im)\n",
    "    Image.fromarray(im).save('prediction_cnnnn/prediction_' + '%.3d' % (i + 1)+ '.png')"
   ]
  },
  {
   "cell_type": "code",
   "execution_count": 54,
   "metadata": {},
   "outputs": [
    {
     "name": "stdout",
     "output_type": "stream",
     "text": [
      "[[1 2]\n",
      " [3 4]\n",
      " [5 6]]\n"
     ]
    }
   ],
   "source": []
  },
  {
   "cell_type": "code",
   "execution_count": 56,
   "metadata": {},
   "outputs": [
    {
     "data": {
      "text/plain": [
       "400"
      ]
     },
     "execution_count": 56,
     "metadata": {},
     "output_type": "execute_result"
    }
   ],
   "source": []
  },
  {
   "cell_type": "code",
   "execution_count": null,
   "metadata": {},
   "outputs": [],
   "source": []
  }
 ],
 "metadata": {
  "kernelspec": {
   "display_name": "Python 3",
   "language": "python",
   "name": "python3"
  },
  "language_info": {
   "codemirror_mode": {
    "name": "ipython",
    "version": 3
   },
   "file_extension": ".py",
   "mimetype": "text/x-python",
   "name": "python",
   "nbconvert_exporter": "python",
   "pygments_lexer": "ipython3",
   "version": "3.6.3"
  }
 },
 "nbformat": 4,
 "nbformat_minor": 2
}
