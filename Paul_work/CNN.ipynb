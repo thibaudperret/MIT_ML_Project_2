{
 "cells": [
  {
   "cell_type": "code",
   "execution_count": 1,
   "metadata": {},
   "outputs": [
    {
     "name": "stderr",
     "output_type": "stream",
     "text": [
      "Using TensorFlow backend.\n",
      "/Users/mac/tensorflow/lib/python3.6/importlib/_bootstrap.py:219: RuntimeWarning: compiletime version 3.5 of module 'tensorflow.python.framework.fast_tensor_util' does not match runtime version 3.6\n",
      "  return f(*args, **kwds)\n"
     ]
    }
   ],
   "source": [
    "import numpy as np\n",
    "import keras\n",
    "from keras.models import Sequential\n",
    "from keras.layers import Dense, Dropout, Flatten\n",
    "from keras.layers import Conv2D, MaxPooling2D\n",
    "from keras.optimizers import SGD\n",
    "import os,sys\n",
    "from PIL import Image\n",
    "from helpers import *\n",
    "from sklearn import linear_model\n",
    "from sklearn.preprocessing import PolynomialFeatures\n",
    "from pylab import *\n",
    "from sklearn.model_selection import train_test_split"
   ]
  },
  {
   "cell_type": "code",
   "execution_count": 2,
   "metadata": {},
   "outputs": [
    {
     "name": "stdout",
     "output_type": "stream",
     "text": [
      "Loading 100 satellite images\n",
      "Loading 100 groundtruth images\n",
      "Image size = 400,400\n"
     ]
    }
   ],
   "source": [
    "# Loaded a set of images\n",
    "#root_dir = \"augmented_training/\"\n",
    "\n",
    "root_dir = \"training/\"\n",
    "image_dir = root_dir + \"images/\"\n",
    "files = os.listdir(image_dir) \n",
    "sort_nicely(files)\n",
    "\n",
    "n = 100\n",
    "\n",
    "print(\"Loading \" + str(n) + \" satellite images\")\n",
    "imgs = [load_image(image_dir + files[i]) for i in range(n)] #List of each image Dim (100, 400,400,3)\n",
    "\n",
    "\n",
    "gt_dir = root_dir + \"groundtruth/\"\n",
    "files2 = os.listdir(gt_dir)\n",
    "sort_nicely(files2)\n",
    "\n",
    "\n",
    "print(\"Loading \" + str(n) + \" groundtruth images\")\n",
    "gt_imgs = [load_image(gt_dir + files2[i]) for i in range(n)]\n",
    "\n",
    "print('Image size = ' + str(imgs[0].shape[0]) + ',' + str(imgs[0].shape[1]))"
   ]
  },
  {
   "cell_type": "code",
   "execution_count": 3,
   "metadata": {},
   "outputs": [
    {
     "name": "stdout",
     "output_type": "stream",
     "text": [
      "img_patches:(62500, 16, 16, 3)\n",
      "gt_patches:(62500, 16, 16)\n"
     ]
    }
   ],
   "source": [
    "patch_size = 16 # each patch is 16*16 pixels  #400/16 = 25*25 = 625 patches for 10 images\n",
    "\n",
    "img_patches = [img_crop(imgs[i], patch_size, patch_size) for i in range(n)]   # dim img_patches = (n,625,16,16,3)\n",
    "gt_patches = [img_crop(gt_imgs[i], patch_size, patch_size) for i in range(n)]\n",
    "\n",
    "# Linearize list of patches\n",
    "\n",
    "X = np.asarray([img_patches[i][j] for i in range(len(img_patches)) for j in range(len(img_patches[i]))])\n",
    "gt_patches = np.asarray([gt_patches[i][j] for i in range(len(gt_patches)) for j in range(len(gt_patches[i]))])\n",
    "\n",
    "print(\"img_patches:\" + str(X.shape))\n",
    "print(\"gt_patches:\" + str(gt_patches.shape))"
   ]
  },
  {
   "cell_type": "code",
   "execution_count": 4,
   "metadata": {},
   "outputs": [
    {
     "data": {
      "text/plain": [
       "(62500,)"
      ]
     },
     "execution_count": 4,
     "metadata": {},
     "output_type": "execute_result"
    }
   ],
   "source": [
    "foreground_threshold = 0.25    \n",
    "Y = np.asarray([value_to_class(np.mean(gt_patches[i]),foreground_threshold) for i in range(len(gt_patches))])\n",
    "Y.shape"
   ]
  },
  {
   "cell_type": "code",
   "execution_count": 5,
   "metadata": {},
   "outputs": [
    {
     "name": "stdout",
     "output_type": "stream",
     "text": [
      "X_train: (50000, 16, 16, 3)\n",
      "X_val:  (12500, 16, 16, 3)\n",
      "Y_train (50000,)\n",
      "Y_val (12500,)\n"
     ]
    }
   ],
   "source": [
    "X_train, X_val, Y_train, Y_val = train_test_split(X, Y, test_size=0.2)\n",
    "\n",
    "print(\"X_train:\",X_train.shape)\n",
    "print(\"X_val: \",X_val.shape)\n",
    "print(\"Y_train\",Y_train.shape)\n",
    "print(\"Y_val\",Y_val.shape)"
   ]
  },
  {
   "cell_type": "code",
   "execution_count": 27,
   "metadata": {},
   "outputs": [
    {
     "name": "stdout",
     "output_type": "stream",
     "text": [
      "Train on 50000 samples, validate on 12500 samples\n",
      "Epoch 1/30\n",
      "50000/50000 [==============================] - 166s 3ms/step - loss: 0.5263 - acc: 0.7424 - val_loss: 0.4747 - val_acc: 0.7558\n",
      "Epoch 2/30\n",
      "50000/50000 [==============================] - 187s 4ms/step - loss: 0.4510 - acc: 0.7762 - val_loss: 0.4069 - val_acc: 0.8047\n",
      "Epoch 3/30\n",
      "50000/50000 [==============================] - 163s 3ms/step - loss: 0.4152 - acc: 0.7976 - val_loss: 0.3845 - val_acc: 0.8153\n",
      "Epoch 4/30\n",
      "50000/50000 [==============================] - 164s 3ms/step - loss: 0.3942 - acc: 0.8135 - val_loss: 0.3894 - val_acc: 0.8132\n",
      "Epoch 5/30\n",
      "50000/50000 [==============================] - 213s 4ms/step - loss: 0.3790 - acc: 0.8215 - val_loss: 0.3543 - val_acc: 0.8311\n",
      "Epoch 6/30\n",
      "50000/50000 [==============================] - 190s 4ms/step - loss: 0.3693 - acc: 0.8273 - val_loss: 0.3483 - val_acc: 0.8415\n",
      "Epoch 7/30\n",
      "50000/50000 [==============================] - 182s 4ms/step - loss: 0.3613 - acc: 0.8299 - val_loss: 0.3463 - val_acc: 0.8404\n",
      "Epoch 8/30\n",
      "50000/50000 [==============================] - 177s 4ms/step - loss: 0.3564 - acc: 0.8337 - val_loss: 0.3713 - val_acc: 0.8274\n",
      "Epoch 9/30\n",
      "50000/50000 [==============================] - 177s 4ms/step - loss: 0.3468 - acc: 0.8414 - val_loss: 0.3420 - val_acc: 0.8452\n",
      "Epoch 10/30\n",
      "50000/50000 [==============================] - 189s 4ms/step - loss: 0.3426 - acc: 0.8416 - val_loss: 0.3382 - val_acc: 0.8393\n",
      "Epoch 11/30\n",
      "50000/50000 [==============================] - 177s 4ms/step - loss: 0.3310 - acc: 0.8483 - val_loss: 0.3299 - val_acc: 0.8497\n",
      "Epoch 12/30\n",
      "50000/50000 [==============================] - 172s 3ms/step - loss: 0.3269 - acc: 0.8497 - val_loss: 0.3582 - val_acc: 0.8301\n",
      "Epoch 13/30\n",
      "50000/50000 [==============================] - 168s 3ms/step - loss: 0.3222 - acc: 0.8525 - val_loss: 0.3389 - val_acc: 0.8486\n",
      "Epoch 14/30\n",
      "50000/50000 [==============================] - 176s 4ms/step - loss: 0.3151 - acc: 0.8580 - val_loss: 0.3253 - val_acc: 0.8556\n",
      "Epoch 15/30\n",
      "50000/50000 [==============================] - 189s 4ms/step - loss: 0.3184 - acc: 0.8549 - val_loss: 0.3237 - val_acc: 0.8584\n",
      "Epoch 16/30\n",
      "50000/50000 [==============================] - 194s 4ms/step - loss: 0.3063 - acc: 0.8618 - val_loss: 0.3329 - val_acc: 0.8439\n",
      "Epoch 17/30\n",
      "50000/50000 [==============================] - 184s 4ms/step - loss: 0.3068 - acc: 0.8618 - val_loss: 0.3229 - val_acc: 0.8494\n",
      "Epoch 18/30\n",
      "50000/50000 [==============================] - 177s 4ms/step - loss: 0.3010 - acc: 0.8647 - val_loss: 0.3177 - val_acc: 0.8578\n",
      "Epoch 19/30\n",
      "50000/50000 [==============================] - 182s 4ms/step - loss: 0.2999 - acc: 0.8656 - val_loss: 0.3069 - val_acc: 0.8656\n",
      "Epoch 20/30\n",
      "50000/50000 [==============================] - 167s 3ms/step - loss: 0.2959 - acc: 0.8651 - val_loss: 0.3130 - val_acc: 0.8594\n",
      "Epoch 21/30\n",
      "50000/50000 [==============================] - 164s 3ms/step - loss: 0.2917 - acc: 0.8693 - val_loss: 0.3050 - val_acc: 0.8639\n",
      "Epoch 22/30\n",
      "50000/50000 [==============================] - 168s 3ms/step - loss: 0.2848 - acc: 0.8729 - val_loss: 0.3216 - val_acc: 0.8540\n",
      "Epoch 23/30\n",
      "50000/50000 [==============================] - 162s 3ms/step - loss: 0.2858 - acc: 0.8715 - val_loss: 0.3015 - val_acc: 0.8707\n",
      "Epoch 24/30\n",
      "50000/50000 [==============================] - 165s 3ms/step - loss: 0.2792 - acc: 0.8752 - val_loss: 0.3054 - val_acc: 0.8670\n",
      "Epoch 25/30\n",
      "50000/50000 [==============================] - 705s 14ms/step - loss: 0.2791 - acc: 0.8745 - val_loss: 0.2977 - val_acc: 0.8722\n",
      "Epoch 26/30\n",
      "50000/50000 [==============================] - 166s 3ms/step - loss: 0.2746 - acc: 0.8791 - val_loss: 0.3055 - val_acc: 0.8656\n",
      "Epoch 27/30\n",
      "50000/50000 [==============================] - 162s 3ms/step - loss: 0.2769 - acc: 0.8757 - val_loss: 0.2995 - val_acc: 0.8712\n",
      "Epoch 28/30\n",
      "50000/50000 [==============================] - 177s 4ms/step - loss: 0.2716 - acc: 0.8786 - val_loss: 0.3044 - val_acc: 0.8670\n",
      "Epoch 29/30\n",
      "50000/50000 [==============================] - 168s 3ms/step - loss: 0.2671 - acc: 0.8816 - val_loss: 0.3144 - val_acc: 0.8617\n",
      "Epoch 30/30\n",
      "50000/50000 [==============================] - 169s 3ms/step - loss: 0.2687 - acc: 0.8799 - val_loss: 0.3098 - val_acc: 0.8692\n",
      "12500/12500 [==============================] - 12s 937us/step\n"
     ]
    }
   ],
   "source": [
    "from keras.optimizers import Adam\n",
    "from keras.layers import LeakyReLU\n",
    "#from keras.regularizers import l2\n",
    "from keras.callbacks import ReduceLROnPlateau\n",
    "from keras import backend as K\n",
    "#reg = 1e-6\n",
    "\n",
    "model = Sequential()\n",
    "\n",
    "model.add(Conv2D(32, (3, 3), activation='relu', padding = 'same' ,input_shape=(16, 16, 3)))\n",
    "model.add(Conv2D(32, (3, 3), activation='relu', padding = 'same'))\n",
    "model.add(MaxPooling2D(pool_size=(2, 2)))\n",
    "model.add(Dropout(0.25))\n",
    "\n",
    "model.add(Conv2D(64, (3, 3), activation='relu' , padding = 'same'))\n",
    "model.add(Conv2D(64, (3, 3), activation='relu', padding = 'same'))\n",
    "model.add(MaxPooling2D(pool_size=(2, 2)))\n",
    "model.add(Dropout(0.5))\n",
    "\n",
    "model.add(Conv2D(128, (3, 3), activation='relu' , padding = 'same'))\n",
    "model.add(Conv2D(128, (3, 3), activation='relu', padding = 'same'))\n",
    "model.add(MaxPooling2D(pool_size=(2, 2)))\n",
    "model.add(Dropout(0.5))\n",
    "\n",
    "#model.add(Conv2D(512, (3, 3), activation='relu' , padding = 'same'))\n",
    "#model.add(Conv2D(512, (3, 3), activation='relu', padding = 'same'))\n",
    "#model.add(MaxPooling2D(pool_size=(2, 2)))\n",
    "#model.add(Dropout(0.5))\n",
    "\n",
    "model.add(Flatten())\n",
    "#model.add(Dense(512, activation='relu'))\n",
    "model.add(Dense(512, activation='relu'))\n",
    "model.add(Dropout(0.5))\n",
    "model.add(Dense(1, activation='sigmoid'))\n",
    "\n",
    "#sgd = SGD(lr=0.01, decay=1e-6, momentum=0.9, nesterov=True)\n",
    "opt = Adam(lr=0.001)\n",
    "model.compile(loss='binary_crossentropy', optimizer = opt, metrics = ['accuracy'])\n",
    "reduce_lr = ReduceLROnPlateau(monitor = 'val_loss', factor=0.2,patience = 5, min_lr=0.00000001)\n",
    "network_history = model.fit(X_train, Y_train, batch_size=128, epochs=40, validation_data = (X_val,Y_val), callbacks=[reduce_lr])\n",
    "#network_history = model.fit(X_train, Y_train, batch_size=128, epochs=20, validation_data = (X_val,Y_val))\n",
    "\n",
    "#network_history = model.fit(X, Y, batch_size=64, epochs=20)\n",
    "\n",
    "score = model.evaluate(X_val, Y_val, batch_size=128)"
   ]
  },
  {
   "cell_type": "code",
   "execution_count": 28,
   "metadata": {},
   "outputs": [
    {
     "data": {
      "image/png": "[encoded data removed]",
      "text/plain": [
       "<matplotlib.figure.Figure at 0x15b6df4e0>"
      ]
     },
     "metadata": {},
     "output_type": "display_data"
    },
    {
     "data": {
      "image/png": "[encoded data removed]",
      "text/plain": [
       "<matplotlib.figure.Figure at 0x15b5a61d0>"
      ]
     },
     "metadata": {},
     "output_type": "display_data"
    }
   ],
   "source": [
    "import matplotlib.pyplot as plt\n",
    "%matplotlib inline\n",
    "\n",
    "def plot_history(network_history):\n",
    "    plt.figure()\n",
    "    plt.xlabel('Epochs')\n",
    "    plt.ylabel('Loss')\n",
    "    plt.plot(network_history.history['loss'])\n",
    "    plt.plot(network_history.history['val_loss'])\n",
    "    plt.legend(['Training', 'Validation'])\n",
    "\n",
    "    plt.figure()\n",
    "    plt.xlabel('Epochs')\n",
    "    plt.ylabel('Accuracy')\n",
    "    plt.plot(network_history.history['acc'])\n",
    "    plt.plot(network_history.history['val_acc'])\n",
    "    plt.legend(['Training', 'Validation'], loc='lower right')\n",
    "    plt.show()\n",
    "\n",
    "plot_history(network_history)"
   ]
  },
  {
   "cell_type": "markdown",
   "metadata": {},
   "source": [
    "## SUBMISSION \n"
   ]
  },
  {
   "cell_type": "code",
   "execution_count": 29,
   "metadata": {},
   "outputs": [
    {
     "name": "stdout",
     "output_type": "stream",
     "text": [
      "['test_set_images/test_1/test_1.png', 'test_set_images/test_2/test_2.png', 'test_set_images/test_3/test_3.png', 'test_set_images/test_4/test_4.png', 'test_set_images/test_5/test_5.png', 'test_set_images/test_6/test_6.png', 'test_set_images/test_7/test_7.png', 'test_set_images/test_8/test_8.png', 'test_set_images/test_9/test_9.png', 'test_set_images/test_10/test_10.png', 'test_set_images/test_11/test_11.png', 'test_set_images/test_12/test_12.png', 'test_set_images/test_13/test_13.png', 'test_set_images/test_14/test_14.png', 'test_set_images/test_15/test_15.png', 'test_set_images/test_16/test_16.png', 'test_set_images/test_17/test_17.png', 'test_set_images/test_18/test_18.png', 'test_set_images/test_19/test_19.png', 'test_set_images/test_20/test_20.png', 'test_set_images/test_21/test_21.png', 'test_set_images/test_22/test_22.png', 'test_set_images/test_23/test_23.png', 'test_set_images/test_24/test_24.png', 'test_set_images/test_25/test_25.png', 'test_set_images/test_26/test_26.png', 'test_set_images/test_27/test_27.png', 'test_set_images/test_28/test_28.png', 'test_set_images/test_29/test_29.png', 'test_set_images/test_30/test_30.png', 'test_set_images/test_31/test_31.png', 'test_set_images/test_32/test_32.png', 'test_set_images/test_33/test_33.png', 'test_set_images/test_34/test_34.png', 'test_set_images/test_35/test_35.png', 'test_set_images/test_36/test_36.png', 'test_set_images/test_37/test_37.png', 'test_set_images/test_38/test_38.png', 'test_set_images/test_39/test_39.png', 'test_set_images/test_40/test_40.png', 'test_set_images/test_41/test_41.png', 'test_set_images/test_42/test_42.png', 'test_set_images/test_43/test_43.png', 'test_set_images/test_44/test_44.png', 'test_set_images/test_45/test_45.png', 'test_set_images/test_46/test_46.png', 'test_set_images/test_47/test_47.png', 'test_set_images/test_48/test_48.png', 'test_set_images/test_49/test_49.png', 'test_set_images/test_50/test_50.png']\n",
      "Loading 50 test images\n",
      "Size of image: 608,608\n",
      "img_patches:(72200, 16, 16, 3)\n",
      "Dataset (RGB features Mean/Variance) : (72200, 6)\n"
     ]
    }
   ],
   "source": [
    "test_dir = 'test_set_images/'\n",
    "\n",
    "imgs_test = load_test_images(test_dir) ##In helpers.py\n",
    "patch_size = 16 \n",
    "\n",
    "img_patches_test = [img_crop(imgs_test[i], patch_size, patch_size) for i in range(len(imgs_test))]# dim img_patches\n",
    "img_patches_test = np.asarray([img_patches_test[i][j] for i in range(len(img_patches_test)) for j in range(len(img_patches_test[i]))])\n",
    "\n",
    "print(\"img_patches:\" + str(img_patches_test.shape))\n",
    "\n",
    "data = np.asarray([extract_features(img_patches_test[i]) for i in range(len(img_patches_test))])\n",
    "print('Dataset (RGB features Mean/Variance) :', data.shape)\n"
   ]
  },
  {
   "cell_type": "code",
   "execution_count": 30,
   "metadata": {},
   "outputs": [],
   "source": [
    "y_pred = model.predict(img_patches_test, batch_size = 128)"
   ]
  },
  {
   "cell_type": "code",
   "execution_count": 35,
   "metadata": {},
   "outputs": [
    {
     "name": "stdout",
     "output_type": "stream",
     "text": [
      "prediction_shape: before (72200, 1)\n",
      "prediction_shape: after (50, 1444)\n"
     ]
    }
   ],
   "source": [
    "for i in range(len(y_pred)):\n",
    "    \n",
    "    if y_pred[i] < 0.6:\n",
    "        y_pred[i] = 0\n",
    "    else:\n",
    "        y_pred[i] = 1\n",
    "\n",
    "print('prediction_shape: before',y_pred.shape)\n",
    "labels = np.reshape(y_pred,(50,1444))\n",
    "print('prediction_shape: after',labels.shape) ##iterate over each image more easily"
   ]
  },
  {
   "cell_type": "code",
   "execution_count": 36,
   "metadata": {},
   "outputs": [],
   "source": [
    "imgwidth = imgs_test[0].shape[0] \n",
    "imgheight = imgs_test[0].shape[1] \n",
    "w = patch_size\n",
    "h = patch_size\n",
    "\n",
    "os.makedirs('prediction_convvv/', exist_ok=True) \n",
    "\n",
    "for i in range(len(labels)):\n",
    "    im = label_to_img(imgwidth, imgheight, w, h, labels[i])\n",
    "    im = img_float_to_uint8(im)\n",
    "    Image.fromarray(im).save('prediction_convvv/prediction_' + '%.3d' % (i + 1)+ '.png')"
   ]
  },
  {
   "cell_type": "code",
   "execution_count": 54,
   "metadata": {},
   "outputs": [
    {
     "name": "stdout",
     "output_type": "stream",
     "text": [
      "[[1 2]\n",
      " [3 4]\n",
      " [5 6]]\n"
     ]
    }
   ],
   "source": []
  },
  {
   "cell_type": "code",
   "execution_count": 56,
   "metadata": {},
   "outputs": [
    {
     "data": {
      "text/plain": [
       "400"
      ]
     },
     "execution_count": 56,
     "metadata": {},
     "output_type": "execute_result"
    }
   ],
   "source": []
  },
  {
   "cell_type": "code",
   "execution_count": null,
   "metadata": {},
   "outputs": [],
   "source": []
  }
 ],
 "metadata": {
  "kernelspec": {
   "display_name": "Python 3",
   "language": "python",
   "name": "python3"
  },
  "language_info": {
   "codemirror_mode": {
    "name": "ipython",
    "version": 3
   },
   "file_extension": ".py",
   "mimetype": "text/x-python",
   "name": "python",
   "nbconvert_exporter": "python",
   "pygments_lexer": "ipython3",
   "version": "3.6.3"
  }
 },
 "nbformat": 4,
 "nbformat_minor": 2
}
