{
 "cells": [
  {
   "cell_type": "code",
   "execution_count": 1,
   "metadata": {},
   "outputs": [
    {
     "name": "stderr",
     "output_type": "stream",
     "text": [
      "Using TensorFlow backend.\n",
      "/Users/mac/tensorflow/lib/python3.6/importlib/_bootstrap.py:219: RuntimeWarning: compiletime version 3.5 of module 'tensorflow.python.framework.fast_tensor_util' does not match runtime version 3.6\n",
      "  return f(*args, **kwds)\n"
     ]
    }
   ],
   "source": [
    "import numpy as np\n",
    "import keras\n",
    "from keras.models import Sequential\n",
    "from keras.layers import Dense, Dropout, Flatten\n",
    "from keras.layers import Conv2D, MaxPooling2D\n",
    "from keras.optimizers import SGD\n",
    "import os,sys\n",
    "from PIL import Image\n",
    "from helpers import *\n",
    "from sklearn import linear_model\n",
    "from sklearn.preprocessing import PolynomialFeatures\n",
    "from pylab import *\n",
    "from sklearn.model_selection import train_test_split"
   ]
  },
  {
   "cell_type": "code",
   "execution_count": 3,
   "metadata": {},
   "outputs": [
    {
     "name": "stdout",
     "output_type": "stream",
     "text": [
      "Loading 100 satellite images\n",
      "Loading 100 groundtruth images\n",
      "Image size = 400,400\n"
     ]
    }
   ],
   "source": [
    "# Loaded a set of images\n",
    "#root_dir = \"augmented_training/\"\n",
    "\n",
    "root_dir = \"training/\"\n",
    "image_dir = root_dir + \"images/\"\n",
    "files = os.listdir(image_dir) \n",
    "sort_nicely(files)\n",
    "\n",
    "n = 100\n",
    "\n",
    "print(\"Loading \" + str(n) + \" satellite images\")\n",
    "imgs = [load_image(image_dir + files[i]) for i in range(n)] #List of each image Dim (100, 400,400,3)\n",
    "\n",
    "\n",
    "gt_dir = root_dir + \"groundtruth/\"\n",
    "files2 = os.listdir(gt_dir)\n",
    "sort_nicely(files2)\n",
    "\n",
    "\n",
    "print(\"Loading \" + str(n) + \" groundtruth images\")\n",
    "gt_imgs = [load_image(gt_dir + files2[i]) for i in range(n)]\n",
    "\n",
    "print('Image size = ' + str(imgs[0].shape[0]) + ',' + str(imgs[0].shape[1]))"
   ]
  },
  {
   "cell_type": "code",
   "execution_count": 4,
   "metadata": {},
   "outputs": [
    {
     "name": "stdout",
     "output_type": "stream",
     "text": [
      "img_patches:(62500, 16, 16, 3)\n",
      "gt_patches:(62500, 16, 16)\n"
     ]
    }
   ],
   "source": [
    "patch_size = 16 # each patch is 16*16 pixels  #400/16 = 25*25 = 625 patches for 10 images\n",
    "\n",
    "img_patches = [img_crop(imgs[i], patch_size, patch_size) for i in range(n)]   # dim img_patches = (n,625,16,16,3)\n",
    "gt_patches = [img_crop(gt_imgs[i], patch_size, patch_size) for i in range(n)]\n",
    "\n",
    "# Linearize list of patches\n",
    "\n",
    "X = np.asarray([img_patches[i][j] for i in range(len(img_patches)) for j in range(len(img_patches[i]))])\n",
    "gt_patches = np.asarray([gt_patches[i][j] for i in range(len(gt_patches)) for j in range(len(gt_patches[i]))])\n",
    "\n",
    "print(\"img_patches:\" + str(X.shape))\n",
    "print(\"gt_patches:\" + str(gt_patches.shape))"
   ]
  },
  {
   "cell_type": "code",
   "execution_count": 5,
   "metadata": {},
   "outputs": [
    {
     "data": {
      "text/plain": [
       "(62500,)"
      ]
     },
     "execution_count": 5,
     "metadata": {},
     "output_type": "execute_result"
    }
   ],
   "source": [
    "foreground_threshold = 0.25    \n",
    "Y = np.asarray([value_to_class(np.mean(gt_patches[i]),foreground_threshold) for i in range(len(gt_patches))])\n",
    "Y.shape"
   ]
  },
  {
   "cell_type": "code",
   "execution_count": 7,
   "metadata": {},
   "outputs": [
    {
     "name": "stdout",
     "output_type": "stream",
     "text": [
      "X_train: (50000, 16, 16, 3)\n",
      "X_val:  (12500, 16, 16, 3)\n",
      "Y_train (50000,)\n",
      "Y_val (12500,)\n"
     ]
    }
   ],
   "source": [
    "X_train, X_val, Y_train, Y_val = train_test_split(X, Y, test_size=0.2)\n",
    "\n",
    "print(\"X_train:\",X_train.shape)\n",
    "print(\"X_val: \",X_val.shape)\n",
    "print(\"Y_train\",Y_train.shape)\n",
    "print(\"Y_val\",Y_val.shape)"
   ]
  },
  {
   "cell_type": "code",
   "execution_count": 8,
   "metadata": {},
   "outputs": [
    {
     "name": "stdout",
     "output_type": "stream",
     "text": [
      "Train on 50000 samples, validate on 12500 samples\n",
      "Epoch 1/20\n",
      "50000/50000 [==============================] - 1033s 21ms/step - loss: 4.1744 - acc: 0.7376 - val_loss: 4.0901 - val_acc: 0.7462\n",
      "Epoch 2/20\n",
      "50000/50000 [==============================] - 1075s 21ms/step - loss: 4.1968 - acc: 0.7396 - val_loss: 4.0901 - val_acc: 0.7462\n",
      "Epoch 3/20\n",
      "50000/50000 [==============================] - 1043s 21ms/step - loss: 4.1968 - acc: 0.7396 - val_loss: 4.0901 - val_acc: 0.7462\n",
      "Epoch 4/20\n",
      "50000/50000 [==============================] - 1049s 21ms/step - loss: 4.1968 - acc: 0.7396 - val_loss: 4.0901 - val_acc: 0.7462\n",
      "Epoch 5/20\n",
      "50000/50000 [==============================] - 1044s 21ms/step - loss: 4.1968 - acc: 0.7396 - val_loss: 4.0901 - val_acc: 0.7462\n",
      "Epoch 6/20\n",
      "50000/50000 [==============================] - 1054s 21ms/step - loss: 4.1968 - acc: 0.7396 - val_loss: 4.0901 - val_acc: 0.7462\n",
      "Epoch 7/20\n",
      "50000/50000 [==============================] - 1042s 21ms/step - loss: 4.1968 - acc: 0.7396 - val_loss: 4.0901 - val_acc: 0.7462\n",
      "Epoch 8/20\n",
      "50000/50000 [==============================] - 1033s 21ms/step - loss: 4.1968 - acc: 0.7396 - val_loss: 4.0901 - val_acc: 0.7462\n",
      "Epoch 9/20\n",
      "50000/50000 [==============================] - 1059s 21ms/step - loss: 4.1968 - acc: 0.7396 - val_loss: 4.0901 - val_acc: 0.7462\n",
      "Epoch 10/20\n",
      "50000/50000 [==============================] - 1049s 21ms/step - loss: 4.1968 - acc: 0.7396 - val_loss: 4.0901 - val_acc: 0.7462\n",
      "Epoch 11/20\n",
      "50000/50000 [==============================] - 1041s 21ms/step - loss: 4.1968 - acc: 0.7396 - val_loss: 4.0901 - val_acc: 0.7462\n",
      "Epoch 12/20\n",
      "50000/50000 [==============================] - 1105s 22ms/step - loss: 4.1968 - acc: 0.7396 - val_loss: 4.0901 - val_acc: 0.7462\n",
      "Epoch 13/20\n",
      "50000/50000 [==============================] - 1041s 21ms/step - loss: 4.1968 - acc: 0.7396 - val_loss: 4.0901 - val_acc: 0.7462\n",
      "Epoch 14/20\n",
      "50000/50000 [==============================] - 1055s 21ms/step - loss: 4.1968 - acc: 0.7396 - val_loss: 4.0901 - val_acc: 0.7462\n",
      "Epoch 15/20\n",
      "50000/50000 [==============================] - 1104s 22ms/step - loss: 4.1968 - acc: 0.7396 - val_loss: 4.0901 - val_acc: 0.7462\n",
      "Epoch 16/20\n",
      "50000/50000 [==============================] - 1032s 21ms/step - loss: 4.1968 - acc: 0.7396 - val_loss: 4.0901 - val_acc: 0.7462\n",
      "Epoch 17/20\n",
      "50000/50000 [==============================] - 1039s 21ms/step - loss: 4.1968 - acc: 0.7396 - val_loss: 4.0901 - val_acc: 0.7462\n",
      "Epoch 18/20\n",
      "50000/50000 [==============================] - 1020s 20ms/step - loss: 4.1968 - acc: 0.7396 - val_loss: 4.0901 - val_acc: 0.7462\n",
      "Epoch 19/20\n",
      "50000/50000 [==============================] - 1040s 21ms/step - loss: 4.1968 - acc: 0.7396 - val_loss: 4.0901 - val_acc: 0.7462\n",
      "Epoch 20/20\n",
      "50000/50000 [==============================] - 1028s 21ms/step - loss: 4.1968 - acc: 0.7396 - val_loss: 4.0901 - val_acc: 0.7462\n",
      "12500/12500 [==============================] - 42s 3ms/step\n"
     ]
    }
   ],
   "source": [
    "from keras.optimizers import Adam\n",
    "from keras.layers import LeakyReLU\n",
    "#from keras.regularizers import l2\n",
    "#from keras.callbacks import ReduceLROnPlateau\n",
    "#reg = 1e-6\n",
    "\n",
    "model = Sequential()\n",
    "\n",
    "model.add(Conv2D(64, (3, 3), activation='relu', padding = 'same' ,input_shape=(16, 16, 3)))\n",
    "model.add(Conv2D(64, (3, 3), activation='relu', padding = 'same'))\n",
    "model.add(MaxPooling2D(pool_size=(2, 2)))\n",
    "model.add(Dropout(0.25))\n",
    "\n",
    "model.add(Conv2D(128, (3, 3), activation='relu' , padding = 'same'))\n",
    "model.add(Conv2D(128, (3, 3), activation='relu', padding = 'same'))\n",
    "model.add(MaxPooling2D(pool_size=(2, 2)))\n",
    "model.add(Dropout(0.5))\n",
    "\n",
    "model.add(Conv2D(256, (3, 3), activation='relu' , padding = 'same'))\n",
    "model.add(Conv2D(256, (3, 3), activation='relu', padding = 'same'))\n",
    "model.add(MaxPooling2D(pool_size=(2, 2)))\n",
    "model.add(Dropout(0.5))\n",
    "\n",
    "model.add(Conv2D(512, (3, 3), activation='relu' , padding = 'same'))\n",
    "model.add(Conv2D(512, (3, 3), activation='relu', padding = 'same'))\n",
    "model.add(MaxPooling2D(pool_size=(2, 2)))\n",
    "model.add(Dropout(0.5))\n",
    "\n",
    "model.add(Flatten())\n",
    "model.add(Dense(512, activation='relu'))\n",
    "model.add(Dense(512, activation='relu'))\n",
    "model.add(Dropout(0.5))\n",
    "model.add(Dense(1, activation='sigmoid'))\n",
    "\n",
    "#sgd = SGD(lr=0.01, decay=1e-6, momentum=0.9, nesterov=True)\n",
    "opt = Adam(lr=0.001)\n",
    "model.compile(loss='binary_crossentropy', optimizer = opt, metrics = ['accuracy'])\n",
    "\n",
    "#reduce_lr = ReduceLROnPlateau(monitor='val_loss', factor=0.2,patience = 7, min_lr=0.0001)\n",
    "#network_history = model.fit(X_train, Y_train, batch_size=128, epochs=20, validation_data = (X_val,Y_val), callbacks=[reduce_lr])\n",
    "network_history = model.fit(X_train, Y_train, batch_size=128, epochs=20, validation_data = (X_val,Y_val))\n",
    "\n",
    "#network_history = model.fit(X, Y, batch_size=64, epochs=20)\n",
    "\n",
    "score = model.evaluate(X_val, Y_val, batch_size=128)"
   ]
  },
  {
   "cell_type": "code",
   "execution_count": 16,
   "metadata": {},
   "outputs": [
    {
     "data": {
      "image/png": "[encoded data removed]",
      "text/plain": [
       "<matplotlib.figure.Figure at 0x11c5fa588>"
      ]
     },
     "metadata": {},
     "output_type": "display_data"
    },
    {
     "data": {
      "image/png": "[encoded data removed]",
      "text/plain": [
       "<matplotlib.figure.Figure at 0x15681e7f0>"
      ]
     },
     "metadata": {},
     "output_type": "display_data"
    }
   ],
   "source": [
    "import matplotlib.pyplot as plt\n",
    "%matplotlib inline\n",
    "\n",
    "def plot_history(network_history):\n",
    "    plt.figure()\n",
    "    plt.xlabel('Epochs')\n",
    "    plt.ylabel('Loss')\n",
    "    plt.plot(network_history.history['loss'])\n",
    "    plt.plot(network_history.history['val_loss'])\n",
    "    plt.legend(['Training', 'Validation'])\n",
    "\n",
    "    plt.figure()\n",
    "    plt.xlabel('Epochs')\n",
    "    plt.ylabel('Accuracy')\n",
    "    plt.plot(network_history.history['acc'])\n",
    "    plt.plot(network_history.history['val_acc'])\n",
    "    plt.legend(['Training', 'Validation'], loc='lower right')\n",
    "    plt.show()\n",
    "\n",
    "plot_history(network_history)"
   ]
  },
  {
   "cell_type": "markdown",
   "metadata": {},
   "source": [
    "## SUBMISSION \n"
   ]
  },
  {
   "cell_type": "code",
   "execution_count": 41,
   "metadata": {},
   "outputs": [
    {
     "name": "stdout",
     "output_type": "stream",
     "text": [
      "['test_set_images/test_1/test_1.png', 'test_set_images/test_2/test_2.png', 'test_set_images/test_3/test_3.png', 'test_set_images/test_4/test_4.png', 'test_set_images/test_5/test_5.png', 'test_set_images/test_6/test_6.png', 'test_set_images/test_7/test_7.png', 'test_set_images/test_8/test_8.png', 'test_set_images/test_9/test_9.png', 'test_set_images/test_10/test_10.png', 'test_set_images/test_11/test_11.png', 'test_set_images/test_12/test_12.png', 'test_set_images/test_13/test_13.png', 'test_set_images/test_14/test_14.png', 'test_set_images/test_15/test_15.png', 'test_set_images/test_16/test_16.png', 'test_set_images/test_17/test_17.png', 'test_set_images/test_18/test_18.png', 'test_set_images/test_19/test_19.png', 'test_set_images/test_20/test_20.png', 'test_set_images/test_21/test_21.png', 'test_set_images/test_22/test_22.png', 'test_set_images/test_23/test_23.png', 'test_set_images/test_24/test_24.png', 'test_set_images/test_25/test_25.png', 'test_set_images/test_26/test_26.png', 'test_set_images/test_27/test_27.png', 'test_set_images/test_28/test_28.png', 'test_set_images/test_29/test_29.png', 'test_set_images/test_30/test_30.png', 'test_set_images/test_31/test_31.png', 'test_set_images/test_32/test_32.png', 'test_set_images/test_33/test_33.png', 'test_set_images/test_34/test_34.png', 'test_set_images/test_35/test_35.png', 'test_set_images/test_36/test_36.png', 'test_set_images/test_37/test_37.png', 'test_set_images/test_38/test_38.png', 'test_set_images/test_39/test_39.png', 'test_set_images/test_40/test_40.png', 'test_set_images/test_41/test_41.png', 'test_set_images/test_42/test_42.png', 'test_set_images/test_43/test_43.png', 'test_set_images/test_44/test_44.png', 'test_set_images/test_45/test_45.png', 'test_set_images/test_46/test_46.png', 'test_set_images/test_47/test_47.png', 'test_set_images/test_48/test_48.png', 'test_set_images/test_49/test_49.png', 'test_set_images/test_50/test_50.png']\n",
      "Loading 50 test images\n",
      "Size of image: 608,608\n",
      "img_patches:(72200, 16, 16, 3)\n",
      "Dataset (RGB features Mean/Variance) : (72200, 6)\n"
     ]
    }
   ],
   "source": [
    "test_dir = 'test_set_images/'\n",
    "\n",
    "imgs_test = load_test_images(test_dir) ##In helpers.py\n",
    "patch_size = 16 \n",
    "\n",
    "img_patches_test = [img_crop(imgs_test[i], patch_size, patch_size) for i in range(len(imgs_test))]# dim img_patches\n",
    "img_patches_test = np.asarray([img_patches_test[i][j] for i in range(len(img_patches_test)) for j in range(len(img_patches_test[i]))])\n",
    "\n",
    "print(\"img_patches:\" + str(img_patches_test.shape))\n",
    "\n",
    "data = np.asarray([extract_features(img_patches_test[i]) for i in range(len(img_patches_test))])\n",
    "print('Dataset (RGB features Mean/Variance) :', data.shape)\n"
   ]
  },
  {
   "cell_type": "code",
   "execution_count": 66,
   "metadata": {},
   "outputs": [],
   "source": [
    "y_pred = model.predict(img_patches_test, batch_size = 64)"
   ]
  },
  {
   "cell_type": "code",
   "execution_count": 67,
   "metadata": {},
   "outputs": [
    {
     "name": "stdout",
     "output_type": "stream",
     "text": [
      "prediction_shape: before (72200, 1)\n",
      "prediction_shape: after (50, 1444)\n"
     ]
    }
   ],
   "source": [
    "for i in range(len(y_pred)):\n",
    "    \n",
    "    if y_pred[i] < 0.5:\n",
    "        y_pred[i] = 0\n",
    "    else:\n",
    "        y_pred[i] = 1\n",
    "\n",
    "print('prediction_shape: before',y_pred.shape)\n",
    "labels = np.reshape(y_pred,(50,1444))\n",
    "print('prediction_shape: after',labels.shape) ##iterate over each image more easily"
   ]
  },
  {
   "cell_type": "code",
   "execution_count": 68,
   "metadata": {},
   "outputs": [],
   "source": [
    "imgwidth = imgs_test[0].shape[0] \n",
    "imgheight = imgs_test[0].shape[1] \n",
    "w = patch_size\n",
    "h = patch_size\n",
    "\n",
    "os.makedirs('prediction_cnnnn/', exist_ok=True) \n",
    "\n",
    "for i in range(len(labels)):\n",
    "    im = label_to_img(imgwidth, imgheight, w, h, labels[i])\n",
    "    im = img_float_to_uint8(im)\n",
    "    Image.fromarray(im).save('prediction_cnnnn/prediction_' + '%.3d' % (i + 1)+ '.png')"
   ]
  },
  {
   "cell_type": "code",
   "execution_count": 54,
   "metadata": {},
   "outputs": [
    {
     "name": "stdout",
     "output_type": "stream",
     "text": [
      "[[1 2]\n",
      " [3 4]\n",
      " [5 6]]\n"
     ]
    }
   ],
   "source": []
  },
  {
   "cell_type": "code",
   "execution_count": 56,
   "metadata": {},
   "outputs": [
    {
     "data": {
      "text/plain": [
       "400"
      ]
     },
     "execution_count": 56,
     "metadata": {},
     "output_type": "execute_result"
    }
   ],
   "source": []
  },
  {
   "cell_type": "code",
   "execution_count": null,
   "metadata": {},
   "outputs": [],
   "source": []
  }
 ],
 "metadata": {
  "kernelspec": {
   "display_name": "Python 3",
   "language": "python",
   "name": "python3"
  },
  "language_info": {
   "codemirror_mode": {
    "name": "ipython",
    "version": 3
   },
   "file_extension": ".py",
   "mimetype": "text/x-python",
   "name": "python",
   "nbconvert_exporter": "python",
   "pygments_lexer": "ipython3",
   "version": "3.6.3"
  }
 },
 "nbformat": 4,
 "nbformat_minor": 2
}
