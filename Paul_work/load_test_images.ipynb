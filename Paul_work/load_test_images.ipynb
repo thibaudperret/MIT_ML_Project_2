{
 "cells": [
  {
   "cell_type": "code",
   "execution_count": 64,
   "metadata": {
    "collapsed": true
   },
   "outputs": [],
   "source": [
    "import numpy as np \n",
    "import os \n",
    "from helpers import *\n",
    "import re"
   ]
  },
  {
   "cell_type": "code",
   "execution_count": 65,
   "metadata": {
    "collapsed": true
   },
   "outputs": [],
   "source": [
    "test_dir = 'test_set_images/'\n"
   ]
  },
  {
   "cell_type": "code",
   "execution_count": 66,
   "metadata": {
    "collapsed": true
   },
   "outputs": [],
   "source": [
    "def sort_nicely(list_):\n",
    "\n",
    "    convert = lambda text: int(text) if text.isdigit() else text\n",
    "    alphanum_key = lambda key: [ convert(c) for c in re.split('([0-9]+)', key) ]\n",
    "    list_.sort(key=alphanum_key)\n"
   ]
  },
  {
   "cell_type": "code",
   "execution_count": 67,
   "metadata": {},
   "outputs": [
    {
     "name": "stdout",
     "output_type": "stream",
     "text": [
      "Loading 50 test images\n",
      "Size of image: 608,608\n",
      "imgs.shape: (50, 608, 608, 3)\n"
     ]
    }
   ],
   "source": [
    "def load_test_images(test_dir):\n",
    "    \n",
    "    test_images=[]\n",
    "    file_paths = []\n",
    "\n",
    "    for root, dirs, files in os.walk(test_dir, topdown=False):\n",
    "        for name in (files):\n",
    "            if name != '.DS_Store':\n",
    "                path = os.path.join(root,name)\n",
    "                file_paths.append(path)\n",
    "    \n",
    "    sort_nicely(file_paths)    \n",
    "    test_images = [load_image(file_paths[i]) for i in range(len(file_paths))]\n",
    "                              \n",
    "    print(\"Loading {} test images\".format(len(test_images)))\n",
    "    imgs = np.asarray(test_images)\n",
    "    print(\"Size of image: {},{}\".format(imgs[0].shape[0],imgs[0].shape[1]))\n",
    "    return imgs\n",
    "\n",
    "\n",
    "imgs = load_test_images(test_dir)\n",
    "print(\"imgs.shape:\",imgs.shape)\n"
   ]
  }
 ],
 "metadata": {
  "kernelspec": {
   "display_name": "Python 3",
   "language": "python",
   "name": "python3"
  },
  "language_info": {
   "codemirror_mode": {
    "name": "ipython",
    "version": 3
   },
   "file_extension": ".py",
   "mimetype": "text/x-python",
   "name": "python",
   "nbconvert_exporter": "python",
   "pygments_lexer": "ipython3",
   "version": "3.6.0"
  }
 },
 "nbformat": 4,
 "nbformat_minor": 2
}
