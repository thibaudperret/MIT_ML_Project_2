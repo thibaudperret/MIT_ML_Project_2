{
 "cells": [
  {
   "cell_type": "code",
   "execution_count": 5,
   "metadata": {},
   "outputs": [],
   "source": [
    "import numpy as np\n",
    "import os,sys\n",
    "from PIL import Image\n",
    "from helpers import *\n",
    "from sklearn import linear_model\n",
    "from sklearn.preprocessing import PolynomialFeatures\n",
    "from pylab import *"
   ]
  },
  {
   "cell_type": "code",
   "execution_count": 103,
   "metadata": {},
   "outputs": [
    {
     "name": "stdout",
     "output_type": "stream",
     "text": [
      "Loading 300 satellite images\n",
      "Loading 300 groundtruth images\n",
      "Image size = 400,400\n"
     ]
    }
   ],
   "source": [
    "# Loaded a set of images\n",
    "\n",
    "root_dir = \"augmented_training/\"\n",
    "#root_dir = \"training/\"\n",
    "image_dir = root_dir + \"images/\"\n",
    "files = os.listdir(image_dir)  \n",
    "\n",
    "n = 300\n",
    "\n",
    "print(\"Loading \" + str(n) + \" satellite images\")\n",
    "imgs = [load_image(image_dir + files[i]) for i in range(n)] #List of each image Dim (100, 400,400,3)\n",
    "\n",
    "gt_dir = root_dir + \"groundtruth/\"\n",
    "files2 = os.listdir(gt_dir)\n",
    "\n",
    "print(\"Loading \" + str(n) + \" groundtruth images\")\n",
    "gt_imgs = [load_image(gt_dir + files2[i]) for i in range(n)]\n",
    "print('Image size = ' + str(imgs[0].shape[0]) + ',' + str(imgs[0].shape[1]))"
   ]
  },
  {
   "cell_type": "code",
   "execution_count": 104,
   "metadata": {},
   "outputs": [
    {
     "name": "stdout",
     "output_type": "stream",
     "text": [
      "img_patches:(187500, 16, 16, 3)\n",
      "gt_patches:(187500, 16, 16)\n"
     ]
    }
   ],
   "source": [
    "patch_size = 16 # each patch is 16*16 pixels  #400/16 = 25*25 = 625 patches for 10 images\n",
    "\n",
    "img_patches = [img_crop(imgs[i], patch_size, patch_size) for i in range(n)]   # dim img_patches = (n,625,16,16,3)\n",
    "gt_patches = [img_crop(gt_imgs[i], patch_size, patch_size) for i in range(n)]\n",
    "\n",
    "# Linearize list of patches\n",
    "\n",
    "img_patches = np.asarray([img_patches[i][j] for i in range(len(img_patches)) for j in range(len(img_patches[i]))])\n",
    "gt_patches =  np.asarray([gt_patches[i][j] for i in range(len(gt_patches)) for j in range(len(gt_patches[i]))])\n",
    "\n",
    "print(\"img_patches:\" + str(img_patches.shape))\n",
    "print(\"gt_patches:\" + str(gt_patches.shape))"
   ]
  },
  {
   "cell_type": "code",
   "execution_count": 105,
   "metadata": {},
   "outputs": [],
   "source": [
    "def build_X_Y_classes(img_patches,gt_patches,foreground_threshold):\n",
    "    \n",
    "    X = np.asarray([extract_features(img_patches[i]) for i in range(len(img_patches))])\n",
    "    Y = np.asarray([value_to_class(np.mean(gt_patches[i]),foreground_threshold) for i in range(len(gt_patches))])\n",
    "\n",
    "    return X,Y"
   ]
  },
  {
   "cell_type": "code",
   "execution_count": 106,
   "metadata": {},
   "outputs": [
    {
     "name": "stdout",
     "output_type": "stream",
     "text": [
      "(187500, 6)\n",
      "(187500,)\n"
     ]
    }
   ],
   "source": [
    "foreground_threshold = 0.25\n",
    "X,Y = build_X_Y_classes(img_patches,gt_patches,foreground_threshold)\n",
    "print(X.shape)\n",
    "print(Y.shape)"
   ]
  },
  {
   "cell_type": "code",
   "execution_count": 107,
   "metadata": {},
   "outputs": [],
   "source": [
    "import numpy as np\n",
    "from keras.models import Sequential\n",
    "from keras.layers import Dense, Dropout"
   ]
  },
  {
   "cell_type": "code",
   "execution_count": 108,
   "metadata": {},
   "outputs": [],
   "source": [
    "L_cut = int(9/10*len(X))\n",
    "\n",
    "X_train = X[0:L_cut]\n",
    "X_test = X[L_cut:len(X)]\n",
    "Y_train = Y[0:L_cut]\n",
    "Y_test = Y[L_cut:len(Y)]"
   ]
  },
  {
   "cell_type": "code",
   "execution_count": 117,
   "metadata": {},
   "outputs": [],
   "source": [
    "model = Sequential()\n",
    "model.add(Dense(64, input_dim=6, activation='relu'))\n",
    "model.add(Dropout(0.2))\n",
    "model.add(Dense(64, activation='relu'))\n",
    "model.add(Dropout(0.2))\n",
    "model.add(Dense(1, activation='sigmoid'))"
   ]
  },
  {
   "cell_type": "code",
   "execution_count": 118,
   "metadata": {},
   "outputs": [],
   "source": [
    "model.compile(loss='binary_crossentropy',\n",
    "              optimizer='rmsprop',\n",
    "              metrics=['accuracy'])"
   ]
  },
  {
   "cell_type": "code",
   "execution_count": 119,
   "metadata": {},
   "outputs": [
    {
     "name": "stdout",
     "output_type": "stream",
     "text": [
      "Epoch 1/20\n",
      "168750/168750 [==============================] - 7s 44us/step - loss: 0.5373 - acc: 0.7476\n",
      "Epoch 2/20\n",
      "168750/168750 [==============================] - 6s 35us/step - loss: 0.5168 - acc: 0.7555\n",
      "Epoch 3/20\n",
      "168750/168750 [==============================] - 5s 28us/step - loss: 0.5098 - acc: 0.7621\n",
      "Epoch 4/20\n",
      "168750/168750 [==============================] - 4s 26us/step - loss: 0.5027 - acc: 0.7658\n",
      "Epoch 5/20\n",
      "168750/168750 [==============================] - 4s 26us/step - loss: 0.4916 - acc: 0.7710\n",
      "Epoch 6/20\n",
      "168750/168750 [==============================] - 5s 27us/step - loss: 0.4821 - acc: 0.7733\n",
      "Epoch 7/20\n",
      "168750/168750 [==============================] - 5s 31us/step - loss: 0.4767 - acc: 0.7756\n",
      "Epoch 8/20\n",
      "168750/168750 [==============================] - 5s 28us/step - loss: 0.4741 - acc: 0.7764\n",
      "Epoch 9/20\n",
      "168750/168750 [==============================] - 6s 37us/step - loss: 0.4715 - acc: 0.7774\n",
      "Epoch 10/20\n",
      "168750/168750 [==============================] - 6s 34us/step - loss: 0.4699 - acc: 0.7777: 1s - l\n",
      "Epoch 11/20\n",
      "168750/168750 [==============================] - 5s 30us/step - loss: 0.4693 - acc: 0.7779\n",
      "Epoch 12/20\n",
      "168750/168750 [==============================] - 5s 28us/step - loss: 0.4681 - acc: 0.7778\n",
      "Epoch 13/20\n",
      "168750/168750 [==============================] - 4s 23us/step - loss: 0.4674 - acc: 0.7784\n",
      "Epoch 14/20\n",
      "168750/168750 [==============================] - 4s 26us/step - loss: 0.4670 - acc: 0.7791\n",
      "Epoch 15/20\n",
      "168750/168750 [==============================] - 5s 27us/step - loss: 0.4667 - acc: 0.7784\n",
      "Epoch 16/20\n",
      "168750/168750 [==============================] - 5s 28us/step - loss: 0.4662 - acc: 0.7793\n",
      "Epoch 17/20\n",
      "168750/168750 [==============================] - 5s 27us/step - loss: 0.4653 - acc: 0.7788\n",
      "Epoch 18/20\n",
      "168750/168750 [==============================] - 5s 30us/step - loss: 0.4652 - acc: 0.7788\n",
      "Epoch 19/20\n",
      "168750/168750 [==============================] - 4s 25us/step - loss: 0.4648 - acc: 0.7786\n",
      "Epoch 20/20\n",
      "168750/168750 [==============================] - 4s 24us/step - loss: 0.4639 - acc: 0.7788\n"
     ]
    },
    {
     "data": {
      "text/plain": [
       "<keras.callbacks.History at 0x11a7507b8>"
      ]
     },
     "execution_count": 119,
     "metadata": {},
     "output_type": "execute_result"
    }
   ],
   "source": [
    "model.fit(X_train, Y_train,\n",
    "          epochs=20,\n",
    "          batch_size=128)"
   ]
  },
  {
   "cell_type": "code",
   "execution_count": 120,
   "metadata": {},
   "outputs": [
    {
     "name": "stdout",
     "output_type": "stream",
     "text": [
      "18750/18750 [==============================] - 1s 35us/step\n",
      "[0.44863077412287394, 0.7882133334159851]\n"
     ]
    }
   ],
   "source": [
    "from sklearn.metrics import f1_score\n",
    "score = model.evaluate(X_test, Y_test, batch_size=128)\n",
    "print(score)"
   ]
  },
  {
   "cell_type": "code",
   "execution_count": 55,
   "metadata": {},
   "outputs": [
    {
     "data": {
      "text/plain": [
       "56250"
      ]
     },
     "execution_count": 55,
     "metadata": {},
     "output_type": "execute_result"
    }
   ],
   "source": [
    "int(9/10*62500)\n"
   ]
  },
  {
   "cell_type": "code",
   "execution_count": null,
   "metadata": {},
   "outputs": [],
   "source": []
  }
 ],
 "metadata": {
  "kernelspec": {
   "display_name": "Python 3",
   "language": "python",
   "name": "python3"
  },
  "language_info": {
   "codemirror_mode": {
    "name": "ipython",
    "version": 3
   },
   "file_extension": ".py",
   "mimetype": "text/x-python",
   "name": "python",
   "nbconvert_exporter": "python",
   "pygments_lexer": "ipython3",
   "version": "3.6.3"
  }
 },
 "nbformat": 4,
 "nbformat_minor": 2
}
