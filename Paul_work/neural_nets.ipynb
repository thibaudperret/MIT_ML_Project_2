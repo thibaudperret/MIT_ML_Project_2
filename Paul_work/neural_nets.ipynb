{
 "cells": [
  {
   "cell_type": "code",
   "execution_count": 1,
   "metadata": {},
   "outputs": [],
   "source": [
    "import numpy as np\n",
    "import os,sys\n",
    "from PIL import Image\n",
    "from helpers import *\n",
    "from sklearn import linear_model\n",
    "from sklearn.preprocessing import PolynomialFeatures\n",
    "from pylab import *"
   ]
  },
  {
   "cell_type": "code",
   "execution_count": 28,
   "metadata": {},
   "outputs": [
    {
     "name": "stdout",
     "output_type": "stream",
     "text": [
      "Loading 100 satellite images\n",
      "Loading 100 groundtruth images\n",
      "Image size = 400,400\n"
     ]
    }
   ],
   "source": [
    "# Loaded a set of images\n",
    "\n",
    "#root_dir = \"augmented_training/\"\n",
    "root_dir = \"training/\"\n",
    "image_dir = root_dir + \"images/\"\n",
    "files = os.listdir(image_dir)  \n",
    "\n",
    "n = 100\n",
    "\n",
    "print(\"Loading \" + str(n) + \" satellite images\")\n",
    "imgs = [load_image(image_dir + files[i]) for i in range(n)] #List of each image Dim (100, 400,400,3)\n",
    "\n",
    "gt_dir = root_dir + \"groundtruth/\"\n",
    "files2 = os.listdir(gt_dir)\n",
    "\n",
    "print(\"Loading \" + str(n) + \" groundtruth images\")\n",
    "gt_imgs = [load_image(gt_dir + files2[i]) for i in range(n)]\n",
    "print('Image size = ' + str(imgs[0].shape[0]) + ',' + str(imgs[0].shape[1]))"
   ]
  },
  {
   "cell_type": "code",
   "execution_count": 29,
   "metadata": {},
   "outputs": [
    {
     "name": "stdout",
     "output_type": "stream",
     "text": [
      "img_patches:(62500, 16, 16, 3)\n",
      "gt_patches:(62500, 16, 16)\n"
     ]
    }
   ],
   "source": [
    "patch_size = 16 # each patch is 16*16 pixels  #400/16 = 25*25 = 625 patches for 10 images\n",
    "\n",
    "img_patches = [img_crop(imgs[i], patch_size, patch_size) for i in range(n)]   # dim img_patches = (n,625,16,16,3)\n",
    "gt_patches = [img_crop(gt_imgs[i], patch_size, patch_size) for i in range(n)]\n",
    "\n",
    "# Linearize list of patches\n",
    "\n",
    "img_patches = np.asarray([img_patches[i][j] for i in range(len(img_patches)) for j in range(len(img_patches[i]))])\n",
    "gt_patches =  np.asarray([gt_patches[i][j] for i in range(len(gt_patches)) for j in range(len(gt_patches[i]))])\n",
    "\n",
    "print(\"img_patches:\" + str(img_patches.shape))\n",
    "print(\"gt_patches:\" + str(gt_patches.shape))"
   ]
  },
  {
   "cell_type": "code",
   "execution_count": 30,
   "metadata": {},
   "outputs": [],
   "source": [
    "def build_X_Y_classes(img_patches,gt_patches,foreground_threshold):\n",
    "    \n",
    "    X = np.asarray([extract_features(img_patches[i]) for i in range(len(img_patches))])\n",
    "    Y = np.asarray([value_to_class(np.mean(gt_patches[i]),foreground_threshold) for i in range(len(gt_patches))])\n",
    "\n",
    "    return X,Y"
   ]
  },
  {
   "cell_type": "code",
   "execution_count": 31,
   "metadata": {},
   "outputs": [
    {
     "name": "stdout",
     "output_type": "stream",
     "text": [
      "(62500, 6)\n",
      "(62500,)\n"
     ]
    }
   ],
   "source": [
    "foreground_threshold = 0.25\n",
    "X,Y = build_X_Y_classes(img_patches,gt_patches,foreground_threshold)\n",
    "print(X.shape)\n",
    "print(Y.shape)"
   ]
  },
  {
   "cell_type": "code",
   "execution_count": 32,
   "metadata": {},
   "outputs": [],
   "source": [
    "import numpy as np\n",
    "from keras.models import Sequential\n",
    "from keras.layers import Dense, Dropout\n",
    "from sklearn.model_selection import train_test_split"
   ]
  },
  {
   "cell_type": "code",
   "execution_count": 38,
   "metadata": {},
   "outputs": [],
   "source": [
    "X_train, X_val, Y_train, Y_val = train_test_split(X, Y,test_size=0.1)"
   ]
  },
  {
   "cell_type": "code",
   "execution_count": 65,
   "metadata": {},
   "outputs": [],
   "source": [
    "model = Sequential()\n",
    "model.add(Dense(512, input_dim=6, activation='relu'))\n",
    "model.add(Dropout(0.5))\n",
    "model.add(Dense(512, activation='relu'))\n",
    "model.add(Dropout(0.5))\n",
    "model.add(Dense(1, activation='sigmoid'))"
   ]
  },
  {
   "cell_type": "code",
   "execution_count": 66,
   "metadata": {},
   "outputs": [],
   "source": [
    "model.compile(loss='binary_crossentropy',\n",
    "              optimizer='rmsprop',\n",
    "              metrics=['accuracy'])"
   ]
  },
  {
   "cell_type": "code",
   "execution_count": 67,
   "metadata": {},
   "outputs": [
    {
     "name": "stdout",
     "output_type": "stream",
     "text": [
      "Train on 56250 samples, validate on 6250 samples\n",
      "Epoch 1/20\n",
      "56250/56250 [==============================] - 8s 145us/step - loss: 0.5368 - acc: 0.7427 - val_loss: 0.5107 - val_acc: 0.7445\n",
      "Epoch 2/20\n",
      "56250/56250 [==============================] - 7s 127us/step - loss: 0.5135 - acc: 0.7525 - val_loss: 0.5074 - val_acc: 0.7571\n",
      "Epoch 3/20\n",
      "56250/56250 [==============================] - 7s 128us/step - loss: 0.5086 - acc: 0.7577 - val_loss: 0.5566 - val_acc: 0.7422\n",
      "Epoch 4/20\n",
      "56250/56250 [==============================] - 7s 126us/step - loss: 0.5019 - acc: 0.7593 - val_loss: 0.5078 - val_acc: 0.7549\n",
      "Epoch 5/20\n",
      "56250/56250 [==============================] - 7s 125us/step - loss: 0.4972 - acc: 0.7624 - val_loss: 0.4884 - val_acc: 0.7610\n",
      "Epoch 6/20\n",
      "56250/56250 [==============================] - 7s 128us/step - loss: 0.4917 - acc: 0.7647 - val_loss: 0.4789 - val_acc: 0.7768\n",
      "Epoch 7/20\n",
      "56250/56250 [==============================] - 7s 125us/step - loss: 0.4865 - acc: 0.7669 - val_loss: 0.5171 - val_acc: 0.7437\n",
      "Epoch 8/20\n",
      "56250/56250 [==============================] - 7s 125us/step - loss: 0.4840 - acc: 0.7678 - val_loss: 0.4712 - val_acc: 0.7725\n",
      "Epoch 9/20\n",
      "56250/56250 [==============================] - 7s 126us/step - loss: 0.4822 - acc: 0.7685 - val_loss: 0.4724 - val_acc: 0.7722\n",
      "Epoch 10/20\n",
      "56250/56250 [==============================] - 7s 126us/step - loss: 0.4804 - acc: 0.7685 - val_loss: 0.4796 - val_acc: 0.7653\n",
      "Epoch 11/20\n",
      "56250/56250 [==============================] - 7s 128us/step - loss: 0.4783 - acc: 0.7697 - val_loss: 0.4669 - val_acc: 0.7768\n",
      "Epoch 12/20\n",
      "56250/56250 [==============================] - 7s 131us/step - loss: 0.4767 - acc: 0.7700 - val_loss: 0.5090 - val_acc: 0.7416\n",
      "Epoch 13/20\n",
      "56250/56250 [==============================] - 8s 135us/step - loss: 0.4764 - acc: 0.7716 - val_loss: 0.4707 - val_acc: 0.7691\n",
      "Epoch 14/20\n",
      "56250/56250 [==============================] - 7s 130us/step - loss: 0.4753 - acc: 0.7719 - val_loss: 0.4690 - val_acc: 0.7722\n",
      "Epoch 15/20\n",
      "56250/56250 [==============================] - 7s 129us/step - loss: 0.4730 - acc: 0.7727 - val_loss: 0.4605 - val_acc: 0.7784\n",
      "Epoch 16/20\n",
      "56250/56250 [==============================] - 7s 124us/step - loss: 0.4740 - acc: 0.7719 - val_loss: 0.4624 - val_acc: 0.7771\n",
      "Epoch 17/20\n",
      "56250/56250 [==============================] - 7s 116us/step - loss: 0.4718 - acc: 0.7731 - val_loss: 0.4733 - val_acc: 0.7661\n",
      "Epoch 18/20\n",
      "56250/56250 [==============================] - 6s 115us/step - loss: 0.4710 - acc: 0.7738 - val_loss: 0.4788 - val_acc: 0.7611\n",
      "Epoch 19/20\n",
      "56250/56250 [==============================] - 7s 118us/step - loss: 0.4709 - acc: 0.7728 - val_loss: 0.4894 - val_acc: 0.7669\n",
      "Epoch 20/20\n",
      "56250/56250 [==============================] - 7s 133us/step - loss: 0.4700 - acc: 0.7740 - val_loss: 0.4678 - val_acc: 0.7683\n"
     ]
    }
   ],
   "source": [
    "network_history = model.fit(X_train, Y_train,\n",
    "          epochs=20,\n",
    "          batch_size=128, validation_data=(X_val, Y_val))"
   ]
  },
  {
   "cell_type": "code",
   "execution_count": 68,
   "metadata": {},
   "outputs": [
    {
     "data": {
      "image/png": "[encoded data removed]",
      "text/plain": [
       "<matplotlib.figure.Figure at 0x129d9f438>"
      ]
     },
     "metadata": {},
     "output_type": "display_data"
    },
    {
     "data": {
      "image/png": "[encoded data removed]",
      "text/plain": [
       "<matplotlib.figure.Figure at 0x12a47bb70>"
      ]
     },
     "metadata": {},
     "output_type": "display_data"
    }
   ],
   "source": [
    "import matplotlib.pyplot as plt\n",
    "%matplotlib inline\n",
    "\n",
    "def plot_history(network_history):\n",
    "    plt.figure()\n",
    "    plt.xlabel('Epochs')\n",
    "    plt.ylabel('Loss')\n",
    "    plt.plot(network_history.history['loss'])\n",
    "    plt.plot(network_history.history['val_loss'])\n",
    "    plt.legend(['Training', 'Validation'])\n",
    "\n",
    "    plt.figure()\n",
    "    plt.xlabel('Epochs')\n",
    "    plt.ylabel('Accuracy')\n",
    "    plt.plot(network_history.history['acc'])\n",
    "    plt.plot(network_history.history['val_acc'])\n",
    "    plt.legend(['Training', 'Validation'], loc='lower right')\n",
    "    plt.show()\n",
    "\n",
    "plot_history(network_history)"
   ]
  },
  {
   "cell_type": "code",
   "execution_count": 69,
   "metadata": {},
   "outputs": [
    {
     "name": "stdout",
     "output_type": "stream",
     "text": [
      "6250/6250 [==============================] - 0s 41us/step\n",
      "[0.4677889961719513, 0.76832000007629397]\n"
     ]
    }
   ],
   "source": [
    "from sklearn.metrics import f1_score\n",
    "score = model.evaluate(X_val, Y_val, batch_size=128)\n",
    "print(score)"
   ]
  },
  {
   "cell_type": "code",
   "execution_count": 37,
   "metadata": {},
   "outputs": [
    {
     "name": "stdout",
     "output_type": "stream",
     "text": [
      "Loading 50 test images\n",
      "Size of image: 608,608\n",
      "img_patches:(72200, 16, 16, 3)\n",
      "Dataset (RGB features Mean/Variance) : (72200, 6)\n"
     ]
    }
   ],
   "source": [
    "test_dir = 'test_set_images/'\n",
    "\n",
    "imgs_test = load_test_images(test_dir) ##In helpers.py\n",
    "patch_size = 16 \n",
    "\n",
    "img_patches_test = [img_crop(imgs_test[i], patch_size, patch_size) for i in range(len(imgs_test))]# dim img_patches\n",
    "img_patches_test = np.asarray([img_patches_test[i][j] for i in range(len(img_patches_test)) for j in range(len(img_patches_test[i]))])\n",
    "\n",
    "print(\"img_patches:\" + str(img_patches_test.shape))\n",
    "\n",
    "data = np.asarray([extract_features(img_patches_test[i]) for i in range(len(img_patches_test))])\n",
    "print('Dataset (RGB features Mean/Variance) :', data.shape)\n"
   ]
  },
  {
   "cell_type": "code",
   "execution_count": 44,
   "metadata": {},
   "outputs": [
    {
     "name": "stdout",
     "output_type": "stream",
     "text": [
      "prediction_shape: before (72200, 1)\n",
      "prediction_shape: after (50, 1444)\n"
     ]
    }
   ],
   "source": [
    "y_pred = model.predict(data, batch_size = 128)\n",
    "\n",
    "for i in range(len(y_pred)):\n",
    "    \n",
    "    if y_pred[i] < 0.5:\n",
    "        y_pred[i] = 0\n",
    "    else:\n",
    "        y_pred[i] = 1\n",
    "\n",
    "\n",
    "print('prediction_shape: before',y_pred.shape)\n",
    "labels = np.reshape(y_pred,(50,1444))\n",
    "print('prediction_shape: after',labels.shape) ##iterate over each image more easily"
   ]
  },
  {
   "cell_type": "code",
   "execution_count": 45,
   "metadata": {
    "collapsed": true
   },
   "outputs": [],
   "source": [
    "imgwidth = imgs_test[0].shape[0] \n",
    "imgheight = imgs_test[0].shape[1] \n",
    "w = patch_size\n",
    "h = patch_size\n",
    "\n",
    "os.makedirs('prediction_nn/', exist_ok=True) \n",
    "\n",
    "for i in range(len(labels)):\n",
    "    im = label_to_img(imgwidth, imgheight, w, h, labels[i])\n",
    "    im = img_float_to_uint8(im)\n",
    "    Image.fromarray(im).save('prediction_nn/prediction_' + '%.3d' % (i + 1)+ '.png')"
   ]
  },
  {
   "cell_type": "code",
   "execution_count": null,
   "metadata": {
    "collapsed": true
   },
   "outputs": [],
   "source": []
  }
 ],
 "metadata": {
  "kernelspec": {
   "display_name": "Python 3",
   "language": "python",
   "name": "python3"
  },
  "language_info": {
   "codemirror_mode": {
    "name": "ipython",
    "version": 3
   },
   "file_extension": ".py",
   "mimetype": "text/x-python",
   "name": "python",
   "nbconvert_exporter": "python",
   "pygments_lexer": "ipython3",
   "version": "3.6.3"
  }
 },
 "nbformat": 4,
 "nbformat_minor": 2
}
